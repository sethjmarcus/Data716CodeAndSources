{
 "cells": [
  {
   "cell_type": "code",
   "execution_count": 7,
   "metadata": {},
   "outputs": [],
   "source": [
    "import pandas as pd\n",
    "from matplotlib import pyplot as plt\n",
    "import statsmodels.api as sm\n",
    "import numpy as np\n",
    "import statsmodels.formula.api as smf"
   ]
  },
  {
   "cell_type": "code",
   "execution_count": 2,
   "metadata": {},
   "outputs": [],
   "source": [
    "restaurant_dataframe = pd.read_csv('raw_data/nyc_restaurant_inspection_results.csv')\n",
    "rodent_dataframe = pd.read_csv('raw_data/rodent_inspection.csv')"
   ]
  },
  {
   "cell_type": "code",
   "execution_count": 3,
   "metadata": {},
   "outputs": [
    {
     "data": {
      "text/plain": [
       "Index(['CAMIS', 'DBA', 'BORO', 'BUILDING', 'STREET', 'ZIPCODE', 'PHONE',\n",
       "       'CUISINE DESCRIPTION', 'INSPECTION DATE', 'ACTION', 'VIOLATION CODE',\n",
       "       'VIOLATION DESCRIPTION', 'CRITICAL FLAG', 'SCORE', 'GRADE',\n",
       "       'GRADE DATE', 'RECORD DATE', 'INSPECTION TYPE', 'Latitude', 'Longitude',\n",
       "       'Community Board', 'Council District', 'Census Tract', 'BIN', 'BBL',\n",
       "       'NTA'],\n",
       "      dtype='object')"
      ]
     },
     "execution_count": 3,
     "metadata": {},
     "output_type": "execute_result"
    }
   ],
   "source": [
    "restaurant_dataframe.columns"
   ]
  },
  {
   "cell_type": "code",
   "execution_count": 3,
   "metadata": {},
   "outputs": [],
   "source": [
    "# get all restaurants that were inspected in 2021\n",
    "restaurant_df = restaurant_dataframe.where(restaurant_dataframe['INSPECTION DATE'].str.contains(\n",
    "    '2021', na=False) & (10001 <= restaurant_dataframe['ZIPCODE']) & (restaurant_dataframe['ZIPCODE'] <= 11697))\n",
    "# removes rows with na score\n",
    "restaurant_df = restaurant_df.dropna(how='any', subset=['SCORE'])\n"
   ]
  },
  {
   "cell_type": "code",
   "execution_count": 63,
   "metadata": {},
   "outputs": [
    {
     "data": {
      "text/plain": [
       "Index(['CAMIS', 'DBA', 'BORO', 'BUILDING', 'STREET', 'ZIPCODE', 'PHONE',\n",
       "       'CUISINE DESCRIPTION', 'INSPECTION DATE', 'ACTION', 'VIOLATION CODE',\n",
       "       'VIOLATION DESCRIPTION', 'CRITICAL FLAG', 'SCORE', 'GRADE',\n",
       "       'GRADE DATE', 'RECORD DATE', 'INSPECTION TYPE', 'Latitude', 'Longitude',\n",
       "       'Community Board', 'Council District', 'Census Tract', 'BIN', 'BBL',\n",
       "       'NTA'],\n",
       "      dtype='object')"
      ]
     },
     "execution_count": 63,
     "metadata": {},
     "output_type": "execute_result"
    }
   ],
   "source": [
    "# restaurant_df.columns"
   ]
  },
  {
   "cell_type": "code",
   "execution_count": 29,
   "metadata": {},
   "outputs": [
    {
     "data": {
      "text/plain": [
       "0"
      ]
     },
     "execution_count": 29,
     "metadata": {},
     "output_type": "execute_result"
    }
   ],
   "source": [
    "# Check if there are any restauratns that don't have a score. There aren't any (see output)\n",
    "restaurant_df['SCORE'].isna().sum()"
   ]
  },
  {
   "cell_type": "code",
   "execution_count": 30,
   "metadata": {},
   "outputs": [
    {
     "data": {
      "text/plain": [
       "<matplotlib.axes._subplots.AxesSubplot at 0x7f2e45650cd0>"
      ]
     },
     "execution_count": 30,
     "metadata": {},
     "output_type": "execute_result"
    },
    {
     "data": {
      "image/png": "[encoded data removed]",
      "text/plain": [
       "<Figure size 432x288 with 1 Axes>"
      ]
     },
     "metadata": {
      "needs_background": "light"
     },
     "output_type": "display_data"
    }
   ],
   "source": [
    "# see the distribution of the average restaurant scores grouped by zipcode where each column is a zipcode. It looks normal enough\n",
    "restaurant_df.groupby('ZIPCODE')['SCORE'].mean().hist(bins=164)"
   ]
  },
  {
   "cell_type": "code",
   "execution_count": 24,
   "metadata": {},
   "outputs": [
    {
     "data": {
      "text/plain": [
       "Index(['INSPECTION_TYPE', 'JOB_TICKET_OR_WORK_ORDER_ID', 'JOB_ID',\n",
       "       'JOB_PROGRESS', 'BBL', 'BORO_CODE', 'BLOCK', 'LOT', 'HOUSE_NUMBER',\n",
       "       'STREET_NAME', 'ZIP_CODE', 'X_COORD', 'Y_COORD', 'LATITUDE',\n",
       "       'LONGITUDE', 'BOROUGH', 'INSPECTION_DATE', 'RESULT', 'APPROVED_DATE',\n",
       "       'LOCATION'],\n",
       "      dtype='object')"
      ]
     },
     "execution_count": 24,
     "metadata": {},
     "output_type": "execute_result"
    }
   ],
   "source": [
    "rodent_dataframe.columns"
   ]
  },
  {
   "cell_type": "code",
   "execution_count": 4,
   "metadata": {},
   "outputs": [],
   "source": [
    "# all reported rodent sightings in 2021, even if the inspection did not result in \"Rat Activity\"\n",
    "rodent_df_all = rodent_dataframe[rodent_dataframe['INSPECTION_DATE'].str.contains('2021', na=False)]\n",
    "# all reported rodent sightings in 2021 where the inspection resulted in \"Rat Activity\"\n",
    "rodent_df_activity = rodent_dataframe[(rodent_dataframe['INSPECTION_DATE'].str.contains('2021', na=False)) & (rodent_dataframe['RESULT']=='Rat Activity')]"
   ]
  },
  {
   "cell_type": "markdown",
   "metadata": {},
   "source": [
    "## Get descriptive statistics"
   ]
  },
  {
   "cell_type": "code",
   "execution_count": 32,
   "metadata": {},
   "outputs": [],
   "source": [
    "restuarant_descriptive_stats = restaurant_df.groupby('ZIPCODE')['SCORE'].mean().describe()\n",
    "rodent_all_descriptive_stats = rodent_df_all.groupby('ZIP_CODE')['JOB_TICKET_OR_WORK_ORDER_ID'].count().describe()\n",
    "rodent_activity_descriptive_stats = rodent_df_activity.groupby('ZIP_CODE')['JOB_TICKET_OR_WORK_ORDER_ID'].count().describe()"
   ]
  },
  {
   "cell_type": "markdown",
   "metadata": {},
   "source": [
    "### How many zipcodes don't overlap from each"
   ]
  },
  {
   "cell_type": "code",
   "execution_count": 33,
   "metadata": {},
   "outputs": [],
   "source": [
    "extra_rodent_activity = set(rodent_df_activity.ZIP_CODE.unique()) - set(restaurant_df.ZIPCODE.unique())\n",
    "extra_rodent_all = set(rodent_df_all.ZIP_CODE.unique()) - set(restaurant_df.ZIPCODE.unique())\n",
    "extra_rest_act = set(restaurant_df.ZIPCODE.unique()) - set(rodent_df_activity.ZIP_CODE.unique())\n",
    "extra_rest_all = set(restaurant_df.ZIPCODE.unique()) - set(rodent_df_all.ZIP_CODE.unique())"
   ]
  },
  {
   "cell_type": "code",
   "execution_count": 34,
   "metadata": {},
   "outputs": [
    {
     "data": {
      "text/plain": [
       "0"
      ]
     },
     "execution_count": 34,
     "metadata": {},
     "output_type": "execute_result"
    }
   ],
   "source": [
    "# Finding a unique key for the rows\n",
    "rodent_df_all['JOB_TICKET_OR_WORK_ORDER_ID'].isna().sum()"
   ]
  },
  {
   "cell_type": "code",
   "execution_count": 36,
   "metadata": {},
   "outputs": [
    {
     "data": {
      "text/plain": [
       "<matplotlib.axes._subplots.AxesSubplot at 0x7f2e4525de80>"
      ]
     },
     "execution_count": 36,
     "metadata": {},
     "output_type": "execute_result"
    },
    {
     "data": {
      "image/png": "[encoded data removed]",
      "text/plain": [
       "<Figure size 432x288 with 1 Axes>"
      ]
     },
     "metadata": {
      "needs_background": "light"
     },
     "output_type": "display_data"
    }
   ],
   "source": [
    "# rodent_df_all.groupby('ZIP_CODE')['JOB_TICKET_OR_WORK_ORDER_ID'].count().hist(bins=164)"
   ]
  },
  {
   "cell_type": "code",
   "execution_count": 37,
   "metadata": {},
   "outputs": [
    {
     "data": {
      "text/plain": [
       "<matplotlib.axes._subplots.AxesSubplot at 0x7f2e44fcbeb0>"
      ]
     },
     "execution_count": 37,
     "metadata": {},
     "output_type": "execute_result"
    },
    {
     "data": {
      "image/png": "[encoded data removed]",
      "text/plain": [
       "<Figure size 432x288 with 1 Axes>"
      ]
     },
     "metadata": {
      "needs_background": "light"
     },
     "output_type": "display_data"
    }
   ],
   "source": [
    "#rodent_df_activity.groupby('ZIP_CODE')['JOB_TICKET_OR_WORK_ORDER_ID'].count().hist(bins=100)"
   ]
  },
  {
   "cell_type": "code",
   "execution_count": 30,
   "metadata": {},
   "outputs": [
    {
     "data": {
      "text/plain": [
       "ZIP_CODE\n",
       "0.0          1\n",
       "10001.0    116\n",
       "10002.0    695\n",
       "10003.0    332\n",
       "10004.0     13\n",
       "Name: JOB_TICKET_OR_WORK_ORDER_ID, dtype: int64"
      ]
     },
     "execution_count": 30,
     "metadata": {},
     "output_type": "execute_result"
    }
   ],
   "source": [
    "rodent_df_activity.groupby('ZIP_CODE')['JOB_TICKET_OR_WORK_ORDER_ID'].count().head()"
   ]
  },
  {
   "cell_type": "code",
   "execution_count": 5,
   "metadata": {},
   "outputs": [],
   "source": [
    "combined_data = pd.merge(\n",
    "    left=rodent_df_activity.groupby('ZIP_CODE')['JOB_TICKET_OR_WORK_ORDER_ID'].count().reset_index(name='count'),\n",
    "    right=restaurant_df.groupby('ZIPCODE')['SCORE'].mean().reset_index(name='avg_score'),\n",
    "    how=\"inner\",\n",
    "    on=None,\n",
    "    left_on='ZIP_CODE',\n",
    "    right_on='ZIPCODE',\n",
    "    left_index=False,\n",
    "    right_index=False,\n",
    "    sort=True,\n",
    "    validate=\"1:1\")"
   ]
  },
  {
   "cell_type": "code",
   "execution_count": 33,
   "metadata": {},
   "outputs": [
    {
     "data": {
      "text/html": [
       "<div>\n",
       "<style scoped>\n",
       "    .dataframe tbody tr th:only-of-type {\n",
       "        vertical-align: middle;\n",
       "    }\n",
       "\n",
       "    .dataframe tbody tr th {\n",
       "        vertical-align: top;\n",
       "    }\n",
       "\n",
       "    .dataframe thead th {\n",
       "        text-align: right;\n",
       "    }\n",
       "</style>\n",
       "<table border=\"1\" class=\"dataframe\">\n",
       "  <thead>\n",
       "    <tr style=\"text-align: right;\">\n",
       "      <th></th>\n",
       "      <th>ZIP_CODE</th>\n",
       "      <th>count</th>\n",
       "      <th>ZIPCODE</th>\n",
       "      <th>avg_score</th>\n",
       "    </tr>\n",
       "  </thead>\n",
       "  <tbody>\n",
       "    <tr>\n",
       "      <th>0</th>\n",
       "      <td>10001.0</td>\n",
       "      <td>116</td>\n",
       "      <td>10001.0</td>\n",
       "      <td>14.866071</td>\n",
       "    </tr>\n",
       "    <tr>\n",
       "      <th>1</th>\n",
       "      <td>10002.0</td>\n",
       "      <td>695</td>\n",
       "      <td>10002.0</td>\n",
       "      <td>11.264706</td>\n",
       "    </tr>\n",
       "    <tr>\n",
       "      <th>2</th>\n",
       "      <td>10003.0</td>\n",
       "      <td>332</td>\n",
       "      <td>10003.0</td>\n",
       "      <td>14.000000</td>\n",
       "    </tr>\n",
       "    <tr>\n",
       "      <th>3</th>\n",
       "      <td>10004.0</td>\n",
       "      <td>13</td>\n",
       "      <td>10004.0</td>\n",
       "      <td>13.512821</td>\n",
       "    </tr>\n",
       "    <tr>\n",
       "      <th>4</th>\n",
       "      <td>10005.0</td>\n",
       "      <td>7</td>\n",
       "      <td>10005.0</td>\n",
       "      <td>18.285714</td>\n",
       "    </tr>\n",
       "  </tbody>\n",
       "</table>\n",
       "</div>"
      ],
      "text/plain": [
       "   ZIP_CODE  count  ZIPCODE  avg_score\n",
       "0   10001.0    116  10001.0  14.866071\n",
       "1   10002.0    695  10002.0  11.264706\n",
       "2   10003.0    332  10003.0  14.000000\n",
       "3   10004.0     13  10004.0  13.512821\n",
       "4   10005.0      7  10005.0  18.285714"
      ]
     },
     "execution_count": 33,
     "metadata": {},
     "output_type": "execute_result"
    }
   ],
   "source": [
    "combined_data.head()"
   ]
  },
  {
   "cell_type": "code",
   "execution_count": 36,
   "metadata": {},
   "outputs": [
    {
     "name": "stdout",
     "output_type": "stream",
     "text": [
      "                                 OLS Regression Results                                \n",
      "=======================================================================================\n",
      "Dep. Variable:              avg_score   R-squared (uncentered):                   0.192\n",
      "Model:                            OLS   Adj. R-squared (uncentered):              0.187\n",
      "Method:                 Least Squares   F-statistic:                              38.47\n",
      "Date:                Tue, 05 Apr 2022   Prob (F-statistic):                    4.45e-09\n",
      "Time:                        01:39:43   Log-Likelihood:                         -634.74\n",
      "No. Observations:                 163   AIC:                                      1271.\n",
      "Df Residuals:                     162   BIC:                                      1275.\n",
      "Df Model:                           1                                                  \n",
      "Covariance Type:            nonrobust                                                  \n",
      "==============================================================================\n",
      "                 coef    std err          t      P>|t|      [0.025      0.975]\n",
      "------------------------------------------------------------------------------\n",
      "count          0.0157      0.003      6.203      0.000       0.011       0.021\n",
      "==============================================================================\n",
      "Omnibus:                       63.170   Durbin-Watson:                   0.564\n",
      "Prob(Omnibus):                  0.000   Jarque-Bera (JB):              296.626\n",
      "Skew:                          -1.355   Prob(JB):                     3.88e-65\n",
      "Kurtosis:                       9.028   Cond. No.                         1.00\n",
      "==============================================================================\n",
      "\n",
      "Warnings:\n",
      "[1] Standard Errors assume that the covariance matrix of the errors is correctly specified.\n"
     ]
    }
   ],
   "source": [
    "model = sm.OLS(combined_data.avg_score, combined_data['count'])\n",
    "results = model.fit()\n",
    "print(results.summary())"
   ]
  },
  {
   "cell_type": "markdown",
   "metadata": {},
   "source": [
    "### Let's try to transform the rodent data to make it a little more normal"
   ]
  },
  {
   "cell_type": "code",
   "execution_count": 50,
   "metadata": {},
   "outputs": [],
   "source": [
    "combined_data_copy = combined_data.copy()"
   ]
  },
  {
   "cell_type": "code",
   "execution_count": 35,
   "metadata": {},
   "outputs": [],
   "source": [
    "combined_data_copy['log_count'] = np.log(combined_data_copy['count'])"
   ]
  },
  {
   "cell_type": "code",
   "execution_count": 63,
   "metadata": {},
   "outputs": [
    {
     "data": {
      "text/plain": [
       "<matplotlib.axes._subplots.AxesSubplot at 0x7f9ef63d5df0>"
      ]
     },
     "execution_count": 63,
     "metadata": {},
     "output_type": "execute_result"
    },
    {
     "data": {
      "image/png": "[encoded data removed]",
      "text/plain": [
       "<Figure size 432x288 with 1 Axes>"
      ]
     },
     "metadata": {
      "needs_background": "light"
     },
     "output_type": "display_data"
    }
   ],
   "source": [
    "combined_data_copy.box_coxed.hist(bins=100)"
   ]
  },
  {
   "cell_type": "code",
   "execution_count": 36,
   "metadata": {},
   "outputs": [
    {
     "name": "stdout",
     "output_type": "stream",
     "text": [
      "                                 OLS Regression Results                                \n",
      "=======================================================================================\n",
      "Dep. Variable:              avg_score   R-squared (uncentered):                   0.787\n",
      "Model:                            OLS   Adj. R-squared (uncentered):              0.785\n",
      "Method:                 Least Squares   F-statistic:                              601.4\n",
      "Date:                Mon, 11 Apr 2022   Prob (F-statistic):                    1.41e-56\n",
      "Time:                        18:07:07   Log-Likelihood:                         -629.30\n",
      "No. Observations:                 164   AIC:                                      1261.\n",
      "Df Residuals:                     163   BIC:                                      1264.\n",
      "Df Model:                           1                                                  \n",
      "Covariance Type:            nonrobust                                                  \n",
      "==============================================================================\n",
      "                 coef    std err          t      P>|t|      [0.025      0.975]\n",
      "------------------------------------------------------------------------------\n",
      "log_count      5.0506      0.206     24.523      0.000       4.644       5.457\n",
      "==============================================================================\n",
      "Omnibus:                        0.260   Durbin-Watson:                   1.051\n",
      "Prob(Omnibus):                  0.878   Jarque-Bera (JB):                0.106\n",
      "Skew:                           0.056   Prob(JB):                        0.948\n",
      "Kurtosis:                       3.054   Cond. No.                         1.00\n",
      "==============================================================================\n",
      "\n",
      "Warnings:\n",
      "[1] Standard Errors assume that the covariance matrix of the errors is correctly specified.\n"
     ]
    }
   ],
   "source": [
    "model = sm.OLS(combined_data.avg_score, combined_data_copy.log_count)\n",
    "results = model.fit()\n",
    "print(results.summary())"
   ]
  }
 ],
 "metadata": {
  "interpreter": {
   "hash": "916dbcbb3f70747c44a77c7bcd40155683ae19c65e1c03b4aa3499c5328201f1"
  },
  "kernelspec": {
   "display_name": "Python 3.8.10 64-bit",
   "language": "python",
   "name": "python3"
  },
  "language_info": {
   "codemirror_mode": {
    "name": "ipython",
    "version": 3
   },
   "file_extension": ".py",
   "mimetype": "text/x-python",
   "name": "python",
   "nbconvert_exporter": "python",
   "pygments_lexer": "ipython3",
   "version": "3.8.10"
  },
  "orig_nbformat": 4
 },
 "nbformat": 4,
 "nbformat_minor": 2
}
