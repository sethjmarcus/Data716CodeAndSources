{
 "cells": [
  {
   "cell_type": "code",
   "execution_count": 1,
   "metadata": {},
   "outputs": [
    {
     "name": "stderr",
     "output_type": "stream",
     "text": [
      "/usr/lib/python3/dist-packages/statsmodels/tsa/base/tsa_model.py:7: FutureWarning: pandas.Int64Index is deprecated and will be removed from pandas in a future version. Use pandas.Index with the appropriate dtype instead.\n",
      "  from pandas import (to_datetime, Int64Index, DatetimeIndex, Period,\n",
      "/usr/lib/python3/dist-packages/statsmodels/tsa/base/tsa_model.py:7: FutureWarning: pandas.Float64Index is deprecated and will be removed from pandas in a future version. Use pandas.Index with the appropriate dtype instead.\n",
      "  from pandas import (to_datetime, Int64Index, DatetimeIndex, Period,\n"
     ]
    }
   ],
   "source": [
    "import pandas as pd\n",
    "from matplotlib import pyplot as plt\n",
    "import statsmodels.api as sm\n",
    "import numpy as np\n",
    "import statsmodels.formula.api as smf\n",
    "from statsmodels.formula.api import ols"
   ]
  },
  {
   "cell_type": "code",
   "execution_count": 2,
   "metadata": {},
   "outputs": [],
   "source": [
    "restaurant_dataframe = pd.read_csv('raw_data/nyc_restaurant_inspection_results.csv')\n",
    "rodent_dataframe = pd.read_csv('raw_data/rodent_inspection.csv')"
   ]
  },
  {
   "cell_type": "code",
   "execution_count": 3,
   "metadata": {},
   "outputs": [],
   "source": [
    "# get all restaurants that were inspected in 2021\n",
    "restaurant_df = restaurant_dataframe.where(restaurant_dataframe['INSPECTION DATE'].str.contains(\n",
    "    '2021', na=False) & (10001 <= restaurant_dataframe['ZIPCODE']) & (restaurant_dataframe['ZIPCODE'] <= 11697))\n",
    "# removes rows with na score\n",
    "restaurant_df = restaurant_df.dropna(how='any', subset=['SCORE'])"
   ]
  },
  {
   "cell_type": "code",
   "execution_count": 29,
   "metadata": {},
   "outputs": [
    {
     "data": {
      "text/plain": [
       "0"
      ]
     },
     "execution_count": 29,
     "metadata": {},
     "output_type": "execute_result"
    }
   ],
   "source": [
    "# Check if there are any restauratns that don't have a score. There aren't any (see output)\n",
    "restaurant_df['SCORE'].isna().sum()"
   ]
  },
  {
   "cell_type": "code",
   "execution_count": 30,
   "metadata": {},
   "outputs": [
    {
     "data": {
      "text/plain": [
       "<matplotlib.axes._subplots.AxesSubplot at 0x7f2e45650cd0>"
      ]
     },
     "execution_count": 30,
     "metadata": {},
     "output_type": "execute_result"
    },
    {
     "data": {
      "image/png": "[encoded data removed]",
      "text/plain": [
       "<Figure size 432x288 with 1 Axes>"
      ]
     },
     "metadata": {
      "needs_background": "light"
     },
     "output_type": "display_data"
    }
   ],
   "source": [
    "# see the distribution of the average restaurant scores grouped by zipcode where each column is a zipcode. It looks normal enough\n",
    "restaurant_df.groupby('ZIPCODE')['SCORE'].mean().hist(bins=164)"
   ]
  },
  {
   "cell_type": "code",
   "execution_count": 4,
   "metadata": {},
   "outputs": [],
   "source": [
    "# all reported rodent sightings in 2021, even if the inspection did not result in \"Rat Activity\"\n",
    "rodent_df_all = rodent_dataframe[rodent_dataframe['INSPECTION_DATE'].str.contains('2021', na=False)]\n",
    "# all reported rodent sightings in 2021 where the inspection resulted in \"Rat Activity\"\n",
    "rodent_df_activity = rodent_dataframe[(rodent_dataframe['INSPECTION_DATE'].str.contains('2021', na=False)) & (rodent_dataframe['RESULT']=='Rat Activity')]"
   ]
  },
  {
   "cell_type": "markdown",
   "metadata": {},
   "source": [
    "## Get descriptive statistics"
   ]
  },
  {
   "cell_type": "code",
   "execution_count": 5,
   "metadata": {},
   "outputs": [],
   "source": [
    "restuarant_descriptive_stats = restaurant_df.groupby('ZIPCODE')['SCORE'].mean().describe()\n",
    "rodent_all_descriptive_stats = rodent_df_all.groupby('ZIP_CODE')['JOB_TICKET_OR_WORK_ORDER_ID'].count().describe()\n",
    "rodent_activity_descriptive_stats = rodent_df_activity.groupby('ZIP_CODE')['JOB_TICKET_OR_WORK_ORDER_ID'].count().describe()"
   ]
  },
  {
   "cell_type": "markdown",
   "metadata": {},
   "source": [
    "### How many zipcodes don't overlap from each"
   ]
  },
  {
   "cell_type": "code",
   "execution_count": 6,
   "metadata": {},
   "outputs": [],
   "source": [
    "extra_rodent_activity = set(rodent_df_activity.ZIP_CODE.unique()) - set(restaurant_df.ZIPCODE.unique())\n",
    "extra_rodent_all = set(rodent_df_all.ZIP_CODE.unique()) - set(restaurant_df.ZIPCODE.unique())\n",
    "extra_rest_act = set(restaurant_df.ZIPCODE.unique()) - set(rodent_df_activity.ZIP_CODE.unique())\n",
    "extra_rest_all = set(restaurant_df.ZIPCODE.unique()) - set(rodent_df_all.ZIP_CODE.unique())"
   ]
  },
  {
   "cell_type": "code",
   "execution_count": 34,
   "metadata": {},
   "outputs": [
    {
     "data": {
      "text/plain": [
       "0"
      ]
     },
     "execution_count": 34,
     "metadata": {},
     "output_type": "execute_result"
    }
   ],
   "source": [
    "# Finding a unique key for the rows\n",
    "rodent_df_all['JOB_TICKET_OR_WORK_ORDER_ID'].isna().sum()"
   ]
  },
  {
   "cell_type": "code",
   "execution_count": 36,
   "metadata": {},
   "outputs": [
    {
     "data": {
      "text/plain": [
       "<matplotlib.axes._subplots.AxesSubplot at 0x7f2e4525de80>"
      ]
     },
     "execution_count": 36,
     "metadata": {},
     "output_type": "execute_result"
    },
    {
     "data": {
      "image/png": "[encoded data removed]",
      "text/plain": [
       "<Figure size 432x288 with 1 Axes>"
      ]
     },
     "metadata": {
      "needs_background": "light"
     },
     "output_type": "display_data"
    }
   ],
   "source": [
    "# rodent_df_all.groupby('ZIP_CODE')['JOB_TICKET_OR_WORK_ORDER_ID'].count().hist(bins=164)"
   ]
  },
  {
   "cell_type": "code",
   "execution_count": 37,
   "metadata": {},
   "outputs": [
    {
     "data": {
      "text/plain": [
       "<matplotlib.axes._subplots.AxesSubplot at 0x7f2e44fcbeb0>"
      ]
     },
     "execution_count": 37,
     "metadata": {},
     "output_type": "execute_result"
    },
    {
     "data": {
      "image/png": "[encoded data removed]",
      "text/plain": [
       "<Figure size 432x288 with 1 Axes>"
      ]
     },
     "metadata": {
      "needs_background": "light"
     },
     "output_type": "display_data"
    }
   ],
   "source": [
    "#rodent_df_activity.groupby('ZIP_CODE')['JOB_TICKET_OR_WORK_ORDER_ID'].count().hist(bins=100)"
   ]
  },
  {
   "cell_type": "markdown",
   "metadata": {},
   "source": [
    "### Combine the 2 datasets into 1 and run a linear regression"
   ]
  },
  {
   "cell_type": "code",
   "execution_count": 7,
   "metadata": {},
   "outputs": [],
   "source": [
    "combined_data = pd.merge(\n",
    "    left=rodent_df_activity.groupby('ZIP_CODE')['JOB_TICKET_OR_WORK_ORDER_ID'].count().reset_index(name='count'),\n",
    "    right=restaurant_df.groupby('ZIPCODE')['SCORE'].mean().reset_index(name='avg_score'),\n",
    "    how=\"inner\",\n",
    "    on=None,\n",
    "    left_on='ZIP_CODE',\n",
    "    right_on='ZIPCODE',\n",
    "    left_index=False,\n",
    "    right_index=False,\n",
    "    sort=True,\n",
    "    validate=\"1:1\")"
   ]
  },
  {
   "cell_type": "code",
   "execution_count": 6,
   "metadata": {},
   "outputs": [
    {
     "data": {
      "text/html": [
       "<div>\n",
       "<style scoped>\n",
       "    .dataframe tbody tr th:only-of-type {\n",
       "        vertical-align: middle;\n",
       "    }\n",
       "\n",
       "    .dataframe tbody tr th {\n",
       "        vertical-align: top;\n",
       "    }\n",
       "\n",
       "    .dataframe thead th {\n",
       "        text-align: right;\n",
       "    }\n",
       "</style>\n",
       "<table border=\"1\" class=\"dataframe\">\n",
       "  <thead>\n",
       "    <tr style=\"text-align: right;\">\n",
       "      <th></th>\n",
       "      <th>ZIP_CODE</th>\n",
       "      <th>count</th>\n",
       "      <th>ZIPCODE</th>\n",
       "      <th>avg_score</th>\n",
       "    </tr>\n",
       "  </thead>\n",
       "  <tbody>\n",
       "    <tr>\n",
       "      <th>count</th>\n",
       "      <td>164.000000</td>\n",
       "      <td>164.000000</td>\n",
       "      <td>164.000000</td>\n",
       "      <td>164.000000</td>\n",
       "    </tr>\n",
       "    <tr>\n",
       "      <th>mean</th>\n",
       "      <td>10803.939024</td>\n",
       "      <td>179.347561</td>\n",
       "      <td>10803.939024</td>\n",
       "      <td>23.468184</td>\n",
       "    </tr>\n",
       "    <tr>\n",
       "      <th>std</th>\n",
       "      <td>574.152688</td>\n",
       "      <td>323.718324</td>\n",
       "      <td>574.152688</td>\n",
       "      <td>6.363188</td>\n",
       "    </tr>\n",
       "    <tr>\n",
       "      <th>min</th>\n",
       "      <td>10001.000000</td>\n",
       "      <td>1.000000</td>\n",
       "      <td>10001.000000</td>\n",
       "      <td>0.000000</td>\n",
       "    </tr>\n",
       "    <tr>\n",
       "      <th>25%</th>\n",
       "      <td>10296.250000</td>\n",
       "      <td>11.000000</td>\n",
       "      <td>10296.250000</td>\n",
       "      <td>19.912068</td>\n",
       "    </tr>\n",
       "    <tr>\n",
       "      <th>50%</th>\n",
       "      <td>11153.500000</td>\n",
       "      <td>50.500000</td>\n",
       "      <td>11153.500000</td>\n",
       "      <td>22.628838</td>\n",
       "    </tr>\n",
       "    <tr>\n",
       "      <th>75%</th>\n",
       "      <td>11357.250000</td>\n",
       "      <td>210.500000</td>\n",
       "      <td>11357.250000</td>\n",
       "      <td>26.403549</td>\n",
       "    </tr>\n",
       "    <tr>\n",
       "      <th>max</th>\n",
       "      <td>11694.000000</td>\n",
       "      <td>2241.000000</td>\n",
       "      <td>11694.000000</td>\n",
       "      <td>59.033333</td>\n",
       "    </tr>\n",
       "  </tbody>\n",
       "</table>\n",
       "</div>"
      ],
      "text/plain": [
       "           ZIP_CODE        count       ZIPCODE   avg_score\n",
       "count    164.000000   164.000000    164.000000  164.000000\n",
       "mean   10803.939024   179.347561  10803.939024   23.468184\n",
       "std      574.152688   323.718324    574.152688    6.363188\n",
       "min    10001.000000     1.000000  10001.000000    0.000000\n",
       "25%    10296.250000    11.000000  10296.250000   19.912068\n",
       "50%    11153.500000    50.500000  11153.500000   22.628838\n",
       "75%    11357.250000   210.500000  11357.250000   26.403549\n",
       "max    11694.000000  2241.000000  11694.000000   59.033333"
      ]
     },
     "execution_count": 6,
     "metadata": {},
     "output_type": "execute_result"
    }
   ],
   "source": [
    "combined_data.describe()"
   ]
  },
  {
   "cell_type": "code",
   "execution_count": 10,
   "metadata": {},
   "outputs": [
    {
     "name": "stdout",
     "output_type": "stream",
     "text": [
      "                            OLS Regression Results                            \n",
      "==============================================================================\n",
      "Dep. Variable:              avg_score   R-squared:                       0.000\n",
      "Model:                            OLS   Adj. R-squared:                 -0.006\n",
      "Method:                 Least Squares   F-statistic:                  0.003754\n",
      "Date:                Thu, 21 Apr 2022   Prob (F-statistic):              0.951\n",
      "Time:                        13:34:41   Log-Likelihood:                -535.69\n",
      "No. Observations:                 164   AIC:                             1075.\n",
      "Df Residuals:                     162   BIC:                             1082.\n",
      "Df Model:                           1                                         \n",
      "Covariance Type:            nonrobust                                         \n",
      "==============================================================================\n",
      "                 coef    std err          t      P>|t|      [0.025      0.975]\n",
      "------------------------------------------------------------------------------\n",
      "const         23.4512      0.570     41.128      0.000      22.325      24.577\n",
      "count       9.462e-05      0.002      0.061      0.951      -0.003       0.003\n",
      "==============================================================================\n",
      "Omnibus:                       52.778   Durbin-Watson:                   1.976\n",
      "Prob(Omnibus):                  0.000   Jarque-Bera (JB):              291.569\n",
      "Skew:                           1.022   Prob(JB):                     4.86e-64\n",
      "Kurtosis:                       9.204   Cond. No.                         422.\n",
      "==============================================================================\n",
      "\n",
      "Warnings:\n",
      "[1] Standard Errors assume that the covariance matrix of the errors is correctly specified.\n"
     ]
    },
    {
     "name": "stderr",
     "output_type": "stream",
     "text": [
      "/usr/lib/python3/dist-packages/statsmodels/tsa/tsatools.py:130: FutureWarning: In a future version of pandas all arguments of concat except for the argument 'objs' will be keyword-only.\n",
      "  x = pd.concat(x[::order], 1)\n"
     ]
    }
   ],
   "source": [
    "X = combined_data[['count']]\n",
    "Y = combined_data.avg_score\n",
    "\n",
    "X = sm.add_constant(X) # adding a constant\n",
    "\n",
    "model = sm.OLS(Y,X).fit()\n",
    "predictions = model.predict(X)\n",
    "\n",
    "print_model = model.summary()\n",
    "print(print_model)"
   ]
  },
  {
   "cell_type": "markdown",
   "metadata": {},
   "source": [
    "### Let's try to transform the rodent data to make it a little more normal"
   ]
  },
  {
   "cell_type": "code",
   "execution_count": 11,
   "metadata": {},
   "outputs": [],
   "source": [
    "combined_data_copy = combined_data.copy()\n",
    "combined_data_copy['log_count'] = np.log(combined_data_copy['count'])"
   ]
  },
  {
   "cell_type": "code",
   "execution_count": 12,
   "metadata": {},
   "outputs": [
    {
     "name": "stdout",
     "output_type": "stream",
     "text": [
      "                            OLS Regression Results                            \n",
      "==============================================================================\n",
      "Dep. Variable:              avg_score   R-squared:                       0.018\n",
      "Model:                            OLS   Adj. R-squared:                  0.012\n",
      "Method:                 Least Squares   F-statistic:                     2.990\n",
      "Date:                Thu, 21 Apr 2022   Prob (F-statistic):             0.0857\n",
      "Time:                        13:35:00   Log-Likelihood:                -534.19\n",
      "No. Observations:                 164   AIC:                             1072.\n",
      "Df Residuals:                     162   BIC:                             1079.\n",
      "Df Model:                           1                                         \n",
      "Covariance Type:            nonrobust                                         \n",
      "==============================================================================\n",
      "                 coef    std err          t      P>|t|      [0.025      0.975]\n",
      "------------------------------------------------------------------------------\n",
      "const         21.6711      1.151     18.833      0.000      19.399      23.943\n",
      "log_count      0.4660      0.270      1.729      0.086      -0.066       0.998\n",
      "==============================================================================\n",
      "Omnibus:                       53.120   Durbin-Watson:                   1.930\n",
      "Prob(Omnibus):                  0.000   Jarque-Bera (JB):              281.651\n",
      "Skew:                           1.047   Prob(JB):                     6.92e-62\n",
      "Kurtosis:                       9.069   Cond. No.                         10.4\n",
      "==============================================================================\n",
      "\n",
      "Warnings:\n",
      "[1] Standard Errors assume that the covariance matrix of the errors is correctly specified.\n"
     ]
    },
    {
     "name": "stderr",
     "output_type": "stream",
     "text": [
      "/usr/lib/python3/dist-packages/statsmodels/tsa/tsatools.py:130: FutureWarning: In a future version of pandas all arguments of concat except for the argument 'objs' will be keyword-only.\n",
      "  x = pd.concat(x[::order], 1)\n"
     ]
    }
   ],
   "source": [
    "X = combined_data_copy.log_count\n",
    "Y = combined_data_copy.avg_score\n",
    "\n",
    "X = sm.add_constant(X) # adding a constant\n",
    "\n",
    "model = sm.OLS(Y,X).fit()\n",
    "predictions = model.predict(X)\n",
    "\n",
    "print_model = model.summary()\n",
    "print(print_model)"
   ]
  },
  {
   "cell_type": "markdown",
   "metadata": {},
   "source": [
    "#### Workspace"
   ]
  },
  {
   "cell_type": "code",
   "execution_count": 13,
   "metadata": {},
   "outputs": [],
   "source": [
    "moore_lm = ols('avg_score ~ log_count', data=combined_data_copy).fit()"
   ]
  },
  {
   "cell_type": "code",
   "execution_count": 20,
   "metadata": {},
   "outputs": [
    {
     "name": "stdout",
     "output_type": "stream",
     "text": [
      "              df       sum_sq     mean_sq        F    PR(>F)\n",
      "log_count    1.0   119.597090  119.597090  2.98979  0.085696\n",
      "Residual   162.0  6480.298251   40.001841      NaN       NaN\n"
     ]
    }
   ],
   "source": [
    "table = sm.stats.anova_lm(moore_lm, type=1)\n",
    "print(table)"
   ]
  },
  {
   "cell_type": "code",
   "execution_count": 15,
   "metadata": {},
   "outputs": [],
   "source": [
    "moore_lm = ols('avg_score ~ count', data=combined_data).fit()"
   ]
  },
  {
   "cell_type": "code",
   "execution_count": 16,
   "metadata": {},
   "outputs": [
    {
     "name": "stdout",
     "output_type": "stream",
     "text": [
      "             df       sum_sq    mean_sq         F    PR(>F)\n",
      "count       1.0     0.152919   0.152919  0.003754  0.951222\n",
      "Residual  162.0  6599.742421  40.739151       NaN       NaN\n"
     ]
    }
   ],
   "source": [
    "table = sm.stats.anova_lm(moore_lm, type=1)\n",
    "print(table)"
   ]
  },
  {
   "cell_type": "code",
   "execution_count": 42,
   "metadata": {},
   "outputs": [],
   "source": [
    "#combined_data_copy.to_csv('text.csv')"
   ]
  },
  {
   "cell_type": "markdown",
   "metadata": {},
   "source": [
    "### Let's try to normalize the data"
   ]
  },
  {
   "cell_type": "code",
   "execution_count": 22,
   "metadata": {},
   "outputs": [],
   "source": [
    "from sklearn import preprocessing"
   ]
  },
  {
   "cell_type": "code",
   "execution_count": 23,
   "metadata": {},
   "outputs": [],
   "source": [
    "standardized_count = preprocessing.normalize([combined_data['count']])\n",
    "standardized_score = preprocessing.normalize([combined_data['avg_score']])"
   ]
  },
  {
   "cell_type": "code",
   "execution_count": 24,
   "metadata": {},
   "outputs": [
    {
     "name": "stdout",
     "output_type": "stream",
     "text": [
      "                            OLS Regression Results                            \n",
      "==============================================================================\n",
      "Dep. Variable:                      y   R-squared:                       0.000\n",
      "Model:                            OLS   Adj. R-squared:                 -0.006\n",
      "Method:                 Least Squares   F-statistic:                  0.003754\n",
      "Date:                Wed, 20 Apr 2022   Prob (F-statistic):              0.951\n",
      "Time:                        23:25:02   Log-Likelihood:                 405.81\n",
      "No. Observations:                 164   AIC:                            -807.6\n",
      "Df Residuals:                     162   BIC:                            -801.4\n",
      "Df Model:                           1                                         \n",
      "Covariance Type:            nonrobust                                         \n",
      "==============================================================================\n",
      "                 coef    std err          t      P>|t|      [0.025      0.975]\n",
      "------------------------------------------------------------------------------\n",
      "const          0.0753      0.002     41.128      0.000       0.072       0.079\n",
      "x1             0.0014      0.023      0.061      0.951      -0.045       0.048\n",
      "==============================================================================\n",
      "Omnibus:                       52.778   Durbin-Watson:                   1.976\n",
      "Prob(Omnibus):                  0.000   Jarque-Bera (JB):              291.569\n",
      "Skew:                           1.022   Prob(JB):                     4.86e-64\n",
      "Kurtosis:                       9.204   Cond. No.                         14.7\n",
      "==============================================================================\n",
      "\n",
      "Warnings:\n",
      "[1] Standard Errors assume that the covariance matrix of the errors is correctly specified.\n"
     ]
    }
   ],
   "source": [
    "X = standardized_count[0]\n",
    "Y = standardized_score[0]\n",
    "\n",
    "X = sm.add_constant(X) # adding a constant\n",
    "\n",
    "model = sm.OLS(Y,X).fit()\n",
    "predictions = model.predict(X)\n",
    "\n",
    "print_model = model.summary()\n",
    "print(print_model)"
   ]
  }
 ],
 "metadata": {
  "interpreter": {
   "hash": "916dbcbb3f70747c44a77c7bcd40155683ae19c65e1c03b4aa3499c5328201f1"
  },
  "kernelspec": {
   "display_name": "Python 3.8.10 64-bit",
   "language": "python",
   "name": "python3"
  },
  "language_info": {
   "codemirror_mode": {
    "name": "ipython",
    "version": 3
   },
   "file_extension": ".py",
   "mimetype": "text/x-python",
   "name": "python",
   "nbconvert_exporter": "python",
   "pygments_lexer": "ipython3",
   "version": "3.8.10"
  },
  "orig_nbformat": 4
 },
 "nbformat": 4,
 "nbformat_minor": 2
}
